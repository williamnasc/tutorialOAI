{
 "cells": [
  {
   "cell_type": "markdown",
   "id": "b52276af-d6d8-4f03-b81f-6799f5b85dd9",
   "metadata": {},
   "source": [
    "# Modelagem e Simulação de Canal no OAI (OpenAirInterface)"
   ]
  },
  {
   "cell_type": "markdown",
   "id": "64e5072b-fe3b-4925-81ca-7cac75342fd7",
   "metadata": {
    "jp-MarkdownHeadingCollapsed": true
   },
   "source": [
    "### 1. O que é modelagem de canal?"
   ]
  },
  {
   "cell_type": "markdown",
   "id": "4bc33ce9-964a-4397-b89f-7bd99998100e",
   "metadata": {
    "jp-MarkdownHeadingCollapsed": true
   },
   "source": [
    "\n",
    "\n",
    "Modelos de canal simulam os efeitos do meio físico na transmissão sem fio. Eles consideram:\n",
    "\n",
    "- **Atenuação (pathloss)**;\n",
    "- **Interferência**;\n",
    "- **Desvanecimento (fading)**;\n",
    "- **Atrasos (delay spread)**.\n",
    "\n",
    "Esses modelos permitem simular cenários como:\n",
    "- Áreas urbanas densas,\n",
    "- Ambientes internos,\n",
    "- Zonas rurais.\n",
    "\n",
    "Com isso, é possível avaliar o desempenho da rede sob diferentes condições reais.\n",
    "\n",
    "\n",
    "\n"
   ]
  },
  {
   "cell_type": "markdown",
   "id": "db4f468a-16a1-434b-b1f1-2e277a750f48",
   "metadata": {
    "jp-MarkdownHeadingCollapsed": true
   },
   "source": [
    "### 2. Simulação de Canal com RFsimulator (OAI)"
   ]
  },
  {
   "cell_type": "markdown",
   "id": "91afbad4-b50a-40ce-b970-d9997f15f063",
   "metadata": {},
   "source": [
    "\n",
    "O OpenAirInterface (OAI) possui o módulo **RFsimulator**, que permite:\n",
    "\n",
    "- Aplicar modelos de canal (ex: AWGN, Rayleigh, Rician);\n",
    "- Alterar parâmetros em tempo de execução;\n",
    "- Simular sem a necessidade de rádio físico (SDR).\n",
    "\n",
    "**obs:** esse tutorial foi feito com base em https://gitlab.eurecom.fr/oai/openairinterface5g/-/blob/develop/openair1/SIMULATION/TOOLS/DOC/channel_simulation.md#channel-modeling\n",
    "\n",
    "\n",
    "A definição, configuração e modificação em tempo real de um modelo de canal são implementadas em um código comum. Este código está incluído no UE, gNB e eNB. É utilizado ao operar com o RFSimulator. Os simuladores PHY também empregam simulação de canal, mas sua configuração é realizada por meio de opções de linha de comando dedicadas.\n"
   ]
  },
  {
   "cell_type": "markdown",
   "id": "71301237-53a1-4f57-83d2-74a67fe3eb0d",
   "metadata": {
    "jp-MarkdownHeadingCollapsed": true
   },
   "source": [
    "### 3. Configuração de Modelo de Canal"
   ]
  },
  {
   "cell_type": "markdown",
   "id": "8494e9bd-1f0b-4847-95f1-c57661a083ee",
   "metadata": {},
   "source": [
    "Para configurar os efeitos do canal no OAI precisamos adicionar as informações das configurações nos arquivos de configuração da gNB e do UE.\n",
    "\n",
    "Neste tutorial iremos utilizar os arquivos:\n",
    "- **Arquivo de configuração do UE:** ../targets/PROJECTS/GENERIC-NR-5GC/CONF/ue.conf\n",
    "- **Arquivo de configuração da gNB monolito:** ../targets/PROJECTS/GENERIC-NR-5GC/CONF/gnb.sa.band78.fr1.106PRB.usrpb210.conf\n",
    "- **Arquivo de configuração do canal:** \"/home/dco1020/openairinterface5g/ci-scripts/conf_files/channelmod_rfsimu.conf\""
   ]
  },
  {
   "cell_type": "markdown",
   "id": "913e17f2-2f8b-4298-91e9-5d42b51d6da1",
   "metadata": {
    "jp-MarkdownHeadingCollapsed": true
   },
   "source": [
    "\n",
    "\n",
    "Para usar um modelo de canal personalizado com `RFsimulator`, é necessário garantir que os arquivos de configuração do **gNB**, **UE** e o **channelmod** estejam na **mesma pasta**.\n",
    "\n",
    "\n",
    "\n",
    "**Passo 3.1:** Copiar o arquivo `channelmod_rfsimu.conf` para o diretório de configuração\n",
    "\n",
    "```bash\n",
    "cp /home/dco1020/openairinterface5g/ci-scripts/conf_files/channelmod_rfsimu.conf \\\n",
    "/home/dco1020/openairinterface5g/targets/PROJECTS/GENERIC-NR-5GC/CONF/\n",
    "```\n",
    "**Passo 3.2:** Verifique se o arquivo foi copiado corretamente com os comandos:\n",
    "\n",
    "```bash\n",
    "cd /home/dco1020/openairinterface5g/targets/PROJECTS/GENERIC-NR-5GC/CONF/\n",
    "ls\n",
    "```\n",
    "Veja uma tela similar a :\n",
    "![passo2](FIG/passo2.jpeg)\n",
    "\n",
    "O arquivo channelmod_rfsimu.conf deve aparecer listado no terminal.\n",
    "\n",
    "**Passo 3.3:** Para definir e usar um modelo de canal para uplink, o arquivo de configuração do gNB precisa incluir um arquivo de configuração de canal. Para isso, adicione: \n",
    "```bash\n",
    "@include \"channelmod_rfsimu.conf\" \n",
    "```\n",
    "ao final do arquivo da gNB.\n",
    "\n",
    "Faça digitando em um terminal:\n",
    "\n",
    "```bash\n",
    "gedit /home/dco1020/openairinterface5g/targets/PROJECTS/GENERIC-NR-5GC/CONF/gnb.sa.band78.fr1.106PRB.usrpb210.conf\n",
    "```\n",
    "O arquivo deve ficar similar a:\n",
    "![passo3](FIG/passo3.jpeg)\n",
    "\n",
    "**Passo 3.4:** O mesmo deve ser feito para o downlink, incluindo o arquivo de configuração do modelo de canal no final do arquivo de configuração do UE.\n",
    "\n",
    "Faça digitando em um terminal:\n",
    "\n",
    "```bash\n",
    "gedit /home/dco1020/openairinterface5g/targets/PROJECTS/GENERIC-NR-5GC/CONF/ue.conf\n",
    "```\n",
    "O arquivo deve ficar similar a:\n",
    "![passo4](FIG/passo4.jpeg)\n",
    "**Passo 3.5:** Para alterar parâmetros do modelo de canal é preciso editar o `channelmod_rfsimu.conf`.\n",
    "\n",
    "Faça digitando em um terminal:\n",
    "\n",
    "```bash\n",
    "gedit /home/dco1020/openairinterface5g/targets/PROJECTS/GENERIC-NR-5GC/CONF/channelmod_rfsimu.conf\n",
    "```\n",
    "Edite os parâmetros desejados tanto no `rfsimu_channel_enB0` quanto no `rfsimu_channel_ue0`.\n",
    "\n",
    "![passo5](FIG/passo5.jpeg)"
   ]
  },
  {
   "cell_type": "markdown",
   "id": "dd56d027-8c6c-4ff9-880d-938ab485ba87",
   "metadata": {
    "jp-MarkdownHeadingCollapsed": true
   },
   "source": [
    "### 4. Execute o OAI com um modelo de canal"
   ]
  },
  {
   "cell_type": "markdown",
   "id": "ca6ed3b5-1a1c-4f6c-b6d5-dcaa08906d68",
   "metadata": {},
   "source": [
    "\n",
    "\n",
    "**Passo 4.1:** Para habilitar o simulador de canal de RF com funcionalidade de modelagem, adicione a seguinte opção à linha de comando ao iniciar o `gNB` e o `UE`:\n",
    "\n",
    "```bash\n",
    "--rfsimulator.options chanmod\n",
    "```\n",
    "\n",
    "Para especificar qual modelo de canal deve ser usado, indique o nome da lista com a seguinte opção:\n",
    "\n",
    "```bash\n",
    "--channelmod.modellist modellist_rfsimu_1 \n",
    "```\n",
    "O identificador `modellist_rfsimu_1` deve existir dentro do arquivo `channelmod_rfsimu.conf`.\n",
    "\n",
    "**Passo 4.2:** Primeiro é preciso subir o core, utilizando os seguintes comandos:\n",
    "```bash\n",
    "cd /home/dco1020/oai-cn5g-fed/docker-compose\n",
    "\n",
    "sudo python3 core-network.py --type start-basic --scenario 1\n",
    "```\n",
    "\n",
    "**Passo 4.3:** Em outro terminal suba a gNB com os seguintes comandos:\n",
    "```bash\n",
    "\n",
    "cd /home/dco1020/openairinterface5g/cmake_targets/ran_build/build\n",
    "\n",
    "sudo RFSIMULATOR=server ./nr-softmodem --rfsim --sa -O ../../../targets/PROJECTS/GENERIC-NR-5GC/CONF/gnb.sa.band78.fr1.106PRB.usrpb210.conf --gNBs.[0].min_rxtxtime 6 --continuous-tx --rfsimulator.options chanmod --channelmod.modellist modellist_rfsimu_1 \n",
    "```\n",
    "**Passo 4.4:** Abra outro terminal e suba o UE com os seguintes comandos:\n",
    "\n",
    "```bash\n",
    "cd /home/dco1020/openairinterface5g/cmake_targets/ran_build/build\n",
    "\n",
    "sudo RFSIMULATOR=192.168.70.129 ./nr-uesoftmodem -r 106 --numerology 1 --band 78 -C 3619200000 --rfsim --sa --nokrnmod -O ../../../targets/PROJECTS/GENERIC-NR-5GC/CONF/ue.conf --rfsimulator.options chanmod --channelmod.modellist modellist_rfsimu_1\n",
    "\n",
    "```"
   ]
  },
  {
   "cell_type": "markdown",
   "id": "d3230850-2bf0-4a87-ac9b-f708db08b322",
   "metadata": {
    "jp-MarkdownHeadingCollapsed": true
   },
   "source": [
    "### 5. Mudança de pathloss"
   ]
  },
  {
   "attachments": {},
   "cell_type": "markdown",
   "id": "7e5ca37b-80e3-4308-9243-9837bc2a9516",
   "metadata": {
    "jp-MarkdownHeadingCollapsed": true
   },
   "source": [
    "\n",
    "\n",
    "Nesta seção é mostrado como alterar o parâmetro de perda de caminho (`pathloss`) e avaliar seus efeitos em métricas da rede, como throughput e RSRP.\n",
    "\n",
    "\n",
    "**Passo 5.1:**  \n",
    "Uma das formas de alterar o parâmetro é diretamente no arquivo `channelmod_rfsimu.conf`, modificando o valor da variável `ploss_dB`.\n",
    "\n",
    "Para editar o arquivo, utilize o seguinte comando no terminal:\n",
    "\n",
    "```bash\n",
    "gedit /home/dco1020/openairinterface5g/targets/PROJECTS/GENERIC-NR-5GC/CONF/channelmod_rfsimu.conf\n",
    "\n",
    "```\n",
    "![passo5_2](FIG/passo5_2.jpeg)\n",
    "**Passo 5.2:** Outra forma de modificar esse parâmetro é diretamente via linha de comando, ao iniciar a gNB ou o UE. Basta adicionar:\n",
    "\n",
    "```bash\n",
    "--channelmod.modellist_rfsimu_1.[0].ploss_dB 30\n",
    "```\n",
    "\n",
    " Onde:\n",
    "\n",
    "- modellist_rfsimu_1 é o nome da lista definida no arquivo de configuração.\n",
    "- [0] indica o índice do modelo a ser alterado dentro da lista.\n",
    "- 30 é o valor da perda de caminho (em dB).\n",
    "  \n",
    "Exemplo para iniciar o UE com 30 dB de perda:\n",
    "\n",
    "```bash\n",
    "sudo RFSIMULATOR=192.168.70.129 ./nr-uesoftmodem -r 106 --numerology 1 --band 78 -C 3619200000 --rfsim --sa --nokrnmod -O ../../../targets/PROJECTS/GENERIC-NR-5GC/CONF/ue.conf --rfsimulator.options chanmod --channelmod.modellist modellist_rfsimu_1 --channelmod.modellist_rfsimu_1.[0].ploss_dB 30\n",
    "```\n",
    "\n",
    "**Passo 5.3:** Para visualizar os efeitos da mudança de ploss_dB, observe nos terminais os seguintes parâmetros:\n",
    "\n",
    "RSRP (Received Signal Reference Power) nos logs do UE:\n",
    "\n",
    "```bash\n",
    "[NR_PHY] RSRP = -xx dBm\n",
    "```\n",
    "HARQ Stats (indicador de retransmissões no downlink):\n",
    "\n",
    "```bash\n",
    "Harq round stats for Downlink: xx/x/x\n",
    "```\n",
    "Throughput uplink, na gNB:\n",
    "```bash\n",
    "ulsch_total_bytes_received = <valor>\n",
    "```\n",
    "\n",
    "Ao mudar o pathloss do UE e fixar o da gNB em 0 dB tem-se os seguintes resultados:\n",
    "\n",
    "#### **ploss_dB(UE) = 0 ploss_dB(gNB) = 0**\n",
    "\n",
    "![passo5_3](FIG/ploss_ue0dB.jpeg)\n",
    "\n",
    "#### **ploss_dB(UE) = 10 ploss_dB(gNB) = 0**\n",
    "\n",
    "![passo5_31](FIG/ploss_ue10dB.jpeg)\n",
    "\n",
    "#### **ploss_dB(UE) = 30 ploss_dB(gNB) = 0**\n",
    "\n",
    "![passo5_32](FIG/ploss_ue30dB.jpeg)"
   ]
  },
  {
   "cell_type": "markdown",
   "id": "4d8bf575-4336-4044-97ea-711db0d4a4e9",
   "metadata": {
    "jp-MarkdownHeadingCollapsed": true
   },
   "source": [
    "### 6. Controle e Monitoramento via Telnet"
   ]
  },
  {
   "cell_type": "markdown",
   "id": "6627529d-7269-4a94-83d5-29a80421af97",
   "metadata": {
    "jp-MarkdownHeadingCollapsed": true
   },
   "source": [
    "###### O servidor Telnet do OAI permite controlar e ajustar parâmetros do modelo de canal em tempo real.\n",
    "\n",
    "Telnet é um protocolo de rede para acessar remotamente outro dispositivo via linha de comando. O OAI permite acessar via telnet alguns softmoldems (executável que rodam entidades do OAI como a gNB e UE), por exemplo o nr-softmoldem (softmoldem da gNB)\n",
    "\n",
    "Os tutorias de uso do telnet no OAI estão disponíveis [neste link](https://gitlab.eurecom.fr/oai/openairinterface5g/-/blob/develop/common/utils/telnetsrv/DOC/telnetsrv.md)\n",
    "\n",
    "**Passo 6.1:** Habilitar o servidor Telnet\n",
    "\n",
    "Adicione a seguinte opção na linha de comando de execução da gNB ou UE:\n",
    "\n",
    "```bash\n",
    "--telnetsrv porta\n",
    "```\n",
    "Exemplo:\n",
    "\n",
    "```bash\n",
    "sudo RFSIMULATOR=server ./nr-softmodem --rfsim --sa -O ../../../targets/PROJECTS/GENERIC-NR-5GC/CONF/gnb.sa.band78.fr1.106PRB.usrpb210.conf --gNBs.[0].min_rxtxtime 6 --continuous-tx --rfsimulator.options chanmod --telnetsrv 9090 --channelmod.modellist modellist_rfsimu_1 --channelmod.modellist_rfsimu_1.[0].ploss_dB 0\n",
    "```\n",
    "\n",
    "Selecione uma porta diferente para usar os dois servidores na mesma máquina.\n",
    "\n",
    "Abra um terminal e adicione o comando abaixo:\n",
    "\n",
    "```bash\n",
    "telnet 127.0.0.1 9090\n",
    "```\n",
    "\n",
    "**Aperte Enter** para poder digitar os comandos via telnet.\n",
    "\n",
    "<!-- ![passo5_31](FIG/passo6.jpeg) -->\n",
    "\n",
    "para mudar o pathloss : \n",
    "\n",
    "```bash\n",
    "channelmod modify 0 ploss 12\n",
    "```\n",
    "para mudar a potencia do ruido: \n",
    "\n",
    "```bash\n",
    "channelmod modify 0 noise_power_dB 3\n",
    "```\n",
    "A figura baixo mostra a mensagem de respostas quando os parâmetros são modificados\n",
    "![passo5_2](FIG/passo6_2.jpeg)\n",
    "\n",
    "para sair do terminal do telnet use o comando:\n",
    "\n",
    "```bash\n",
    "Ctrl + 5\n",
    "```\n",
    "```bash\n",
    "quit\n",
    "```\n",
    "\n",
    "\n",
    "**OBS:** Existem outras maneiras de mudar a potência do ruído\n",
    "\n",
    "**passo 6.2 (opcional):** Uma opção é alterar o arquivo de configuração do modelo de canal, semelhante ao oque foi feito nos passos 1 da sessão 5.\n",
    "\n",
    "Podemos fazer isso modificando o valor da variável `noise_power_dB` no arquivo `channelmod_rfsimu.conf`.\n",
    "\n",
    "Para editar o arquivo, utilize o seguinte comando no terminal:\n",
    "\n",
    "```bash\n",
    "gedit /home/dco1020/openairinterface5g/targets/PROJECTS/GENERIC-NR-5GC/CONF/channelmod_rfsimu.conf\n",
    "```\n",
    "\n",
    "Altere o valor da variável `noise_power_dB`\n",
    "\n",
    "![passo5_2](FIG/passo6_1.jpeg)\n",
    "\n",
    "**Passo 6.3 (opcional):** Outra opção é modificar esse parâmetro é diretamente via linha de comando, ao iniciar a gNB ou o UE. Basta adicionar:\n",
    "\n",
    "```bash\n",
    "--channelmod.modellist_rfsimu_1.[0].noise_power_dB 10\n",
    "```\n",
    "\n",
    "\n",
    "**OBS:** A configuração padrão do telnet no OAI só suporta acessar uma entidade por vez apenas na porta 9090. \n",
    "\n",
    "Portanto, caso queira acessar via telnet a gNB, basta subir a gNB com o comando do telnet e subir o UE sem o comando do telnet. Caso queira acesar o UE deve subir a gNB sem o comando do telnet e utilizar o comando apenas no UE para a porta 9090.\n"
   ]
  },
  {
   "cell_type": "markdown",
   "id": "3a7b322c-9c35-40f9-920f-001863fa4875",
   "metadata": {
    "jp-MarkdownHeadingCollapsed": true
   },
   "source": [
    "### 7. Monitoramento via nr-scope"
   ]
  },
  {
   "cell_type": "markdown",
   "id": "6c66222c-84bd-4014-975d-1e84cdd863f3",
   "metadata": {},
   "source": [
    "Para verificar os efeitos das mudanças introduzidas pela simulação de canais, a ferramenta de constelação pode ser usada para rastrear e analisar os pontos da constelação de modulação. Esta ferramenta permite que os usuários visualizem o esquema de modulação que está sendo usado e avaliem a qualidade dos sinais recebidos. \n",
    "\n",
    "Ao observar os pontos da constelação, os usuários podem verificar se as alterações feitas na configuração do sistema resultaram em nr-scope\n",
    "\n",
    "Este trecho do tutorial foi montado com base [neste material](https://openairinterface.org/wp-content/uploads/2022/06/OAI-Webinar-Series-Chapter-Four-Presentation-Slides.pdf)"
   ]
  },
  {
   "cell_type": "markdown",
   "id": "9a541d46-af18-428a-b72a-85c1a1303196",
   "metadata": {},
   "source": [
    "#### Configuração \n",
    "\n",
    "**Passo 7.1:** Primeiramente para utilizar o nr-scope no OAI precisar instalar algumas dependências execute os comandos\n",
    "\n",
    "```bash\n",
    "sudo apt-get update\n",
    "sudo apt-get install python3-tk python3-pip libuhd-dev uhd-host\n",
    "```\n",
    "#### Implantação com nr-scope \n",
    "\n",
    "Uma vez com as dependências necessárias, para realizar o deployment precisamos adicionar `-d`depois do `--rfsimulator.options chanmod` nas linhas de comando de execução utilizadas anteriormente \n",
    "\n",
    "**Passo 7.2:** Subir o core como realizado nos passos anteriores\n",
    "```bash\n",
    "cd /home/dco1020/oai-cn5g-fed/docker-compose\n",
    "```\n",
    "```bash\n",
    "sudo python3 core-network.py --type stop-basic --scenario 1\n",
    "```\n",
    "```bash\n",
    "sudo python3 core-network.py --type start-basic --scenario 1\n",
    "```\n",
    "**Passo 7.3:** Subir a gNB com o nr-scope \n",
    "\n",
    "entra na pasta\n",
    "\n",
    "```bash\n",
    "cd /home/dco1020/openairinterface5g/cmake_targets/ran_build/build\n",
    "```\n",
    "adiciona esse comando para subir a gNB\n",
    "\n",
    "```bash\n",
    "sudo RFSIMULATOR=server ./nr-softmodem --r\n",
    "fsim --sa -O ../../../targets/PROJECTS/GENERIC-NR-5GC/CONF/gnb.sa.band78.fr1.106PRB.usrpb210.conf --gNBs.[0].min_rxtxtime 6 --continuous-tx --rfsimulator.options chanmod -d --telnetsrv --channelmod.modellist modellist_rfsimu_1\n",
    "```\n",
    "\n",
    "\n",
    "**Passo 7.3:** Subir o UE com o nr-scope\n",
    "Abre outro terminal\n",
    "\n",
    "entra na pasta\n",
    "\n",
    "```bash\n",
    "cd /home/dco1020/openairinterface5g/cmake_targets/ran_build/build\n",
    "```\n",
    "subir o UE\n",
    "\n",
    "```bash\n",
    "sudo RFSIMULATOR=192.168.70.129 ./nr-uesoftmod\n",
    "em -r 106 --numerology 1 --band 78 -C 3619200000 --rfsim --sa --nokrnmod -O ../../../targets/PROJECTS/GENERIC-NR-5GC/CONF/ue.conf --rfsimulator.options chanmod -d --telnetsrv --channelmod.modellist modellist_rfsimu_1\n",
    "```\n",
    "\n",
    "A figura abaixo mostra o deployment de todas as partes com os valores padrão\n",
    "![passo5_2](FIG/passo7.jpeg)\n"
   ]
  },
  {
   "cell_type": "markdown",
   "id": "30eefe80-7883-40c1-a291-6f02c5f184b7",
   "metadata": {},
   "source": [
    "#### Visualização dos efeitos da potência do ruído via nr-scope\n",
    "\n",
    "Ao subir a gNB ou UE com os comandos corretos altomaticamente abrirá o dashboard do nr-scope\n",
    "\n",
    "O arquivo de configuração por padrão tem o valor da potência do ruido em 0dB, com isso temos os seguintes resultados\n",
    "\n",
    "o dashboard da gNB tem o seguinte formato\n",
    "![passo5_2](FIG/passo7_1.jpeg)\n",
    "\n",
    "e o do UE é semelhante a esse\n",
    "![passo5_2](FIG/passo7_2.jpeg)\n",
    "\n",
    "Se subirmo o UE modificando o a potência do ruído para o valor de 10 dB como apresentado no **passo 6.3** e observarmos o dashboard do UE, vemos algo próximo ao apresentado na figura abaixo\n",
    "![passo5_2](FIG/passo7_3.jpeg)\n",
    "\n",
    "Podemos perceber no canto inferior direito da figura a constelação da recepção do UE mais dispersa em comparação a imagem anterior.\n",
    "\n",
    "**OBS:** É possível durante a execução com o nr-scope acessar a gNB ou UE via telnet para modificar os parâmetros do canal e observar os efeitos em tempo real. Para isso revise os passos da sessão 6.\n",
    "\n",
    "<!-- **Problemas Encontrados:** Por algum motivo não foi possível fazer o mesmo procedimento para observar os efeitos na gNB.  -->"
   ]
  }
 ],
 "metadata": {
  "kernelspec": {
   "display_name": "Python 3 (ipykernel)",
   "language": "python",
   "name": "python3"
  },
  "language_info": {
   "codemirror_mode": {
    "name": "ipython",
    "version": 3
   },
   "file_extension": ".py",
   "mimetype": "text/x-python",
   "name": "python",
   "nbconvert_exporter": "python",
   "pygments_lexer": "ipython3",
   "version": "3.12.0"
  }
 },
 "nbformat": 4,
 "nbformat_minor": 5
}
