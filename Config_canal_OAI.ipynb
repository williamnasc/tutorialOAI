{
 "cells": [
  {
   "cell_type": "markdown",
   "id": "775d154c-f067-4920-a6d1-387b5b557758",
   "metadata": {},
   "source": [
    "# Modlagem de Canal no OAI"
   ]
  },
  {
   "cell_type": "markdown",
   "id": "665d79a5-816c-4ff7-b208-8fc48bad4a45",
   "metadata": {},
   "source": [
    "Os modelos de canal no contexto da comunicação sem fio referem-se a modelos matemáticos que simulam os efeitos dos meios de transmissão na propagação do sinal. Esses modelos levam em conta fatores como atenuação, interferência e desbotamento, que podem afetar a qualidade da comunicação entre o transmissor e o receptor.\n",
    "Diferentes modelos de canal representam diferentes cenários do mundo real, como ambientes urbanos, espaços internos ou áreas rurais. Ao usar esses modelos, pesquisadores e engenheiros podem prever e avaliar o desempenho de sistemas sem fio sob várias condições."
   ]
  },
  {
   "cell_type": "markdown",
   "id": "dbee615e-3272-47b6-b4f2-e6e9ff33206f",
   "metadata": {},
   "source": [
    "A implementação desse tipo de modelagem no OAI se dá por meio do RFSimulator."
   ]
  },
  {
   "cell_type": "markdown",
   "id": "09e81cfb-64cc-47b4-bbf0-70b4534bb38b",
   "metadata": {},
   "source": [
    "A definição, configuração e modificação em tempo real de um modelo de canal são implementadas em um código comum. Este código está incluído no UE, gNB e eNB. É utilizado ao operar com o RFSimulator ou o simulador L1. Os simuladores PHY também empregam simulação de canal, mas sua configuração é realizada por meio de opções de linha de comando dedicadas.\n",
    "O RFSimulator é a opção exclusiva que fornece acesso a todos os recursos de configuração e modificação em tempo real da simulação de canal da OAI. Isso o torna uma ferramenta abrangente para gerenciar e manipular simulações de canais em OAI."
   ]
  },
  {
   "cell_type": "markdown",
   "id": "ab3e36c6-0e17-4399-a8a1-a5ef1adf4bbf",
   "metadata": {},
   "source": [
    "## Configuração"
   ]
  },
  {
   "cell_type": "markdown",
   "id": "467717de-5b7a-4417-9bae-83ec5c9faf48",
   "metadata": {},
   "source": [
    "Para configurar os efeitos do canal no OAI precisamos adicionar as informações das configurações nos arquivos de configuração da gNB e do UE."
   ]
  },
  {
   "cell_type": "markdown",
   "id": "4e04a78c-e5f3-43db-a62c-0944eb35aeb0",
   "metadata": {},
   "source": [
    "Neste tutorial iremos utilizar os arquivos:\n",
    "- **Arquivo de configuração do UE:** ../targets/PROJECTS/GENERIC-NR-5GC/CONF/ue.conf\n",
    "- **Arquivo de configuração da gNB monolito:** ../targets/PROJECTS/GENERIC-NR-5GC/CONF/gnb.sa.band78.fr1.106PRB.usrpb210.conf\n",
    "- **Arquivo de configuração do canal:** \"/home/dco1020/openairinterface5g/ci-scripts/conf_files/channelmod_rfsimu.conf\""
   ]
  },
  {
   "cell_type": "markdown",
   "id": "c7685fd9-6202-44d6-983f-ed91820a8c82",
   "metadata": {},
   "source": [
    "Para definir e usar um modelo de canal para uplink, o arquivo de configuração do gNB precisa incluir um arquivo de configuração de canal. Para fazer isso, adicione:"
   ]
  },
  {
   "cell_type": "code",
   "execution_count": null,
   "id": "76a7fc6a-68e1-4be5-9bc8-ac7ae470f806",
   "metadata": {},
   "outputs": [],
   "source": [
    "@include \"channelmod_rfsimu.conf\""
   ]
  },
  {
   "cell_type": "markdown",
   "id": "de0b3917-d15b-4f53-bbe4-0bb4dc85a23f",
   "metadata": {},
   "source": [
    "no final do arquivo de configuração gNB e coloque o arquivo de configuração do canal no mesmo diretório. O mesmo deve ser feito para downlink, incluindo o arquivo de configuração do modelo de canal no final do arquivo de configuração UE."
   ]
  },
  {
   "cell_type": "markdown",
   "id": "c4a30474-4fa4-42e2-a22a-19858c9f480e",
   "metadata": {},
   "source": [
    "Para editar o arquivo do UE faça:"
   ]
  },
  {
   "cell_type": "code",
   "execution_count": null,
   "id": "6e5c3725-771d-4455-990e-41f549e94ef8",
   "metadata": {},
   "outputs": [],
   "source": [
    "gedit /home/dco1020/openairinterface5g/targets/PROJECTS/GENERIC-NR-5GC/CONF/ue.conf"
   ]
  },
  {
   "cell_type": "markdown",
   "id": "b51f3368-1ff6-4014-83cb-9774d47309b0",
   "metadata": {},
   "source": [
    "Adicione o include no arquivo como apresentado na figura abaixo:"
   ]
  },
  {
   "cell_type": "markdown",
   "id": "4f2c617b-5cde-4a3e-8863-1c9c852ab3f7",
   "metadata": {},
   "source": [
    "**ADD PRINT DO INCLUDE NO ARQUIVO DO UE**"
   ]
  },
  {
   "cell_type": "markdown",
   "id": "7c4ea082-9154-4668-ad7e-a8bacde1b7fa",
   "metadata": {},
   "source": [
    "Para editar o arquivo da gNB faça:"
   ]
  },
  {
   "cell_type": "code",
   "execution_count": null,
   "id": "9cd3de26-b89c-4910-b496-b132248199bb",
   "metadata": {},
   "outputs": [],
   "source": [
    "gedit /home/dco1020/openairinterface5g/targets/PROJECTS/GENERIC-NR-5GC/CONF/gnb.sa.band78.fr1.106PRB.usrpb210.conf"
   ]
  },
  {
   "cell_type": "markdown",
   "id": "09316211-4ed2-4135-a13b-c9b967c00f48",
   "metadata": {},
   "source": [
    "Adicione o include no arquivo como apresentado na figura abaixo:"
   ]
  },
  {
   "cell_type": "markdown",
   "id": "a42c2c7b-c484-48bb-beb2-1661d6e6e8f9",
   "metadata": {},
   "source": [
    "**ADD PRINT DO INCLUDE NO ARQUIVO DA GNB**"
   ]
  },
  {
   "cell_type": "markdown",
   "id": "f6eeb1b6-6147-4d0b-9097-b680aed62a7e",
   "metadata": {},
   "source": [
    "Para copiar o arquivo de configuração do modelo de canal para o lugar onde estão as configurações da gnb e ue, faça:"
   ]
  },
  {
   "cell_type": "code",
   "execution_count": null,
   "id": "3896001f-f4e8-43de-bc8f-f476b22d8f9b",
   "metadata": {},
   "outputs": [],
   "source": [
    "cp /home/dco1020/openairinterface5g/ci-scripts/conf_files/channelmod_rfsimu.conf /home/dco1020/openairinterface5g/targets/PROJECTS/GENERIC-NR-5GC/CONF/"
   ]
  },
  {
   "cell_type": "markdown",
   "id": "4d289b37-9235-4d7f-855d-70d2b79b72c9",
   "metadata": {},
   "source": [
    "Com o arquivo de configuração do modelo sendo incluso e na pasta correta podemos fazer a implantação. "
   ]
  },
  {
   "cell_type": "markdown",
   "id": "7cc92c82-de0a-4bb6-8772-2c46ef3956b5",
   "metadata": {},
   "source": [
    "## Implantação com modelo de canal"
   ]
  },
  {
   "cell_type": "markdown",
   "id": "2c3d2bce-03d1-4464-a3d1-84e34fa09a8c",
   "metadata": {},
   "source": [
    "ir para a pasta da implantação"
   ]
  },
  {
   "cell_type": "code",
   "execution_count": null,
   "id": "147d8720-d96f-4279-b7e3-bae8c80dff80",
   "metadata": {},
   "outputs": [],
   "source": [
    "cd /home/dco1020/openairinterface5g/cmake_targets/ran_build/build/"
   ]
  },
  {
   "cell_type": "markdown",
   "id": "fa97fdad-0540-47f5-a3a1-c15f95bf700a",
   "metadata": {},
   "source": [
    "subir a gnb"
   ]
  },
  {
   "cell_type": "raw",
   "id": "0f57a198-543e-41c4-af52-d407b46e7f89",
   "metadata": {},
   "source": [
    "sudo RFSIMULATOR=server ./nr-softmodem --rfsim --sa -O ../../../targets/PROJECTS/GENERIC-NR-5GC/CONF/gnb.sa.band78.fr1.106PRB.usrpb210.conf --gNBs.[0].min_rxtxtime 6 --continuous-tx --rfsimulator.options chanmod --channelmod.modellist modellist_rfsimu_1 --channelmod.modellist_rfsimu_1.[1].offset 10"
   ]
  },
  {
   "cell_type": "markdown",
   "id": "2b03d42c-4187-4e61-912a-f7156728bd16",
   "metadata": {},
   "source": [
    "subir o ue"
   ]
  },
  {
   "cell_type": "code",
   "execution_count": null,
   "id": "310630dd-1753-4cf6-af71-d128f0cafcaf",
   "metadata": {},
   "outputs": [],
   "source": [
    "sudo RFSIMULATOR=192.168.70.129 ./nr-uesoftmodem -r 106 --numerology 1 --band 78 -C 3619200000 --rfsim --sa --nokrnmod -O ../../../targets/PROJECTS/GENERIC-NR-5GC/CONF/ue.conf"
   ]
  },
  {
   "cell_type": "markdown",
   "id": "5925159a-62d5-410d-b6de-c2a4e1a7c756",
   "metadata": {},
   "source": [
    "## Verificação das mudanças"
   ]
  },
  {
   "cell_type": "markdown",
   "id": "bb6f67d2-7ec0-4132-8772-62d1b4a172f3",
   "metadata": {},
   "source": [
    "As principais métricas que podem ser observadas inicialmente é o RSRP nos log do UE e gNB."
   ]
  },
  {
   "cell_type": "code",
   "execution_count": null,
   "id": "a969dc85-a9ee-41dc-a7ac-6aa943bcdff9",
   "metadata": {},
   "outputs": [],
   "source": []
  }
 ],
 "metadata": {
  "kernelspec": {
   "display_name": "Python 3 (ipykernel)",
   "language": "python",
   "name": "python3"
  },
  "language_info": {
   "codemirror_mode": {
    "name": "ipython",
    "version": 3
   },
   "file_extension": ".py",
   "mimetype": "text/x-python",
   "name": "python",
   "nbconvert_exporter": "python",
   "pygments_lexer": "ipython3",
   "version": "3.12.0"
  }
 },
 "nbformat": 4,
 "nbformat_minor": 5
}
